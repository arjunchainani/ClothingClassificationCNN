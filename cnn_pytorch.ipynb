{
 "cells": [
  {
   "cell_type": "code",
   "execution_count": 1,
   "metadata": {},
   "outputs": [],
   "source": [
    "import os\n",
    "import numpy as np\n",
    "import pandas as pd\n",
    "import matplotlib.pyplot as plt\n",
    "from skimage.io import imread\n",
    "from sklearn.model_selection import train_test_split\n",
    "from sklearn.metrics import accuracy_score\n",
    "import torch\n",
    "import torch.nn as nn\n",
    "from torch.optim import Adam, SGD\n",
    "from torch.autograd import Variable\n",
    "from torch.utils.data import Dataset, DataLoader, random_split\n",
    "import torch.nn.functional as F\n",
    "from tqdm import tqdm"
   ]
  },
  {
   "cell_type": "code",
   "execution_count": 2,
   "metadata": {},
   "outputs": [],
   "source": [
    "train_ids = pd.read_csv('./fashion-mnist/train/train.csv')\n",
    "test_ids = pd.read_csv('./fashion-mnist/test/test.csv')"
   ]
  },
  {
   "cell_type": "code",
   "execution_count": 3,
   "metadata": {},
   "outputs": [
    {
     "data": {
      "text/html": [
       "<div>\n",
       "<style scoped>\n",
       "    .dataframe tbody tr th:only-of-type {\n",
       "        vertical-align: middle;\n",
       "    }\n",
       "\n",
       "    .dataframe tbody tr th {\n",
       "        vertical-align: top;\n",
       "    }\n",
       "\n",
       "    .dataframe thead th {\n",
       "        text-align: right;\n",
       "    }\n",
       "</style>\n",
       "<table border=\"1\" class=\"dataframe\">\n",
       "  <thead>\n",
       "    <tr style=\"text-align: right;\">\n",
       "      <th></th>\n",
       "      <th>id</th>\n",
       "      <th>label</th>\n",
       "    </tr>\n",
       "  </thead>\n",
       "  <tbody>\n",
       "    <tr>\n",
       "      <th>0</th>\n",
       "      <td>1</td>\n",
       "      <td>9</td>\n",
       "    </tr>\n",
       "    <tr>\n",
       "      <th>1</th>\n",
       "      <td>2</td>\n",
       "      <td>0</td>\n",
       "    </tr>\n",
       "    <tr>\n",
       "      <th>2</th>\n",
       "      <td>3</td>\n",
       "      <td>0</td>\n",
       "    </tr>\n",
       "    <tr>\n",
       "      <th>3</th>\n",
       "      <td>4</td>\n",
       "      <td>3</td>\n",
       "    </tr>\n",
       "    <tr>\n",
       "      <th>4</th>\n",
       "      <td>5</td>\n",
       "      <td>0</td>\n",
       "    </tr>\n",
       "  </tbody>\n",
       "</table>\n",
       "</div>"
      ],
      "text/plain": [
       "   id  label\n",
       "0   1      9\n",
       "1   2      0\n",
       "2   3      0\n",
       "3   4      3\n",
       "4   5      0"
      ]
     },
     "execution_count": 3,
     "metadata": {},
     "output_type": "execute_result"
    }
   ],
   "source": [
    "train_ids.head()"
   ]
  },
  {
   "cell_type": "code",
   "execution_count": 4,
   "metadata": {},
   "outputs": [],
   "source": [
    "class GetData(Dataset):\n",
    "    def __init__(self, type, root_dir='./') -> None:\n",
    "        super(Dataset, self).__init__()\n",
    "        self.type = type\n",
    "\n",
    "        img_dir = os.path.join(root_dir, f'fashion-mnist/{str(type)}/{str(type)}')\n",
    "\n",
    "        if os.path.isdir(img_dir):\n",
    "            images = []\n",
    "\n",
    "            if type == 'train':\n",
    "                for id in train_ids['id']:\n",
    "                    img_path = os.path.join(img_dir, f'{str(id)}.png')\n",
    "                    img = imread(img_path, as_gray=True)\n",
    "                    img = np.multiply(img, (1./255.))\n",
    "                    img = img.astype('float32')\n",
    "                    images.append(img)\n",
    "                \n",
    "                self.x = torch.tensor(images)\n",
    "                self.y = F.one_hot(torch.tensor(train_ids['label'].values))\n",
    "\n",
    "            if type == 'test':\n",
    "                for id in test_ids['id']:\n",
    "                    img_path = os.path.join(img_dir, f'{str(id)}.png')\n",
    "                    img = imread(img_path, as_gray=True)\n",
    "                    img = np.multiply(img, (1./255.))\n",
    "                    img = img.astype('float32')\n",
    "                    images.append(img)\n",
    "                \n",
    "                self.x = torch.tensor(images)\n",
    "\n",
    "\n",
    "        else:\n",
    "            raise OSError('parameter \"type\" must be either train or test')        \n",
    "    \n",
    "    def __getitem__(self, index):\n",
    "        if self.type == 'train':\n",
    "            return self.x[index], self.y[index]\n",
    "        elif self.type == 'test': \n",
    "            return self.x[index]\n",
    "        \n",
    "    def __len__(self):\n",
    "        return self.x.shape[0]"
   ]
  },
  {
   "cell_type": "code",
   "execution_count": 5,
   "metadata": {},
   "outputs": [
    {
     "name": "stderr",
     "output_type": "stream",
     "text": [
      "C:\\Users\\ASC_Student\\AppData\\Local\\Temp\\ipykernel_18964\\1640119489.py:19: UserWarning: Creating a tensor from a list of numpy.ndarrays is extremely slow. Please consider converting the list to a single numpy.ndarray with numpy.array() before converting to a tensor. (Triggered internally at ..\\torch\\csrc\\utils\\tensor_new.cpp:248.)\n",
      "  self.x = torch.tensor(images)\n"
     ]
    }
   ],
   "source": [
    "train_set = GetData('train')"
   ]
  },
  {
   "cell_type": "code",
   "execution_count": 6,
   "metadata": {},
   "outputs": [
    {
     "data": {
      "text/plain": [
       "torch.Size([60000, 28, 28])"
      ]
     },
     "execution_count": 6,
     "metadata": {},
     "output_type": "execute_result"
    }
   ],
   "source": [
    "train_set.x.shape"
   ]
  },
  {
   "cell_type": "code",
   "execution_count": 7,
   "metadata": {},
   "outputs": [
    {
     "data": {
      "text/plain": [
       "torch.Size([60000, 10])"
      ]
     },
     "execution_count": 7,
     "metadata": {},
     "output_type": "execute_result"
    }
   ],
   "source": [
    "train_set.y.shape"
   ]
  },
  {
   "cell_type": "code",
   "execution_count": 8,
   "metadata": {},
   "outputs": [
    {
     "data": {
      "text/plain": [
       "torch.Size([10000, 28, 28])"
      ]
     },
     "execution_count": 8,
     "metadata": {},
     "output_type": "execute_result"
    }
   ],
   "source": [
    "test_set = GetData('test')\n",
    "test_set.x.shape"
   ]
  },
  {
   "cell_type": "code",
   "execution_count": 9,
   "metadata": {},
   "outputs": [
    {
     "name": "stdout",
     "output_type": "stream",
     "text": [
      "Num data batches = 6000\n",
      "torch.Size([10, 28, 28])\n",
      "torch.Size([10, 10])\n"
     ]
    }
   ],
   "source": [
    "dl = DataLoader(train_set, batch_size=10)\n",
    "print(f'Num data batches = {len(dl)}')\n",
    "for x, y in dl:\n",
    "    print(x.shape)\n",
    "    print(y.shape)\n",
    "    break"
   ]
  },
  {
   "cell_type": "code",
   "execution_count": 10,
   "metadata": {},
   "outputs": [],
   "source": [
    "class ConvNet(nn.Sequential):\n",
    "    def __init__(self) -> None:\n",
    "        super(nn.Sequential, self).__init__()\n",
    "\n",
    "        self.forward_pass = nn.Sequential(\n",
    "            nn.Conv2d(1, 4, kernel_size=(3, 3), padding='same'), \n",
    "            nn.MaxPool2d(kernel_size=(3, 3), stride=1), \n",
    "            nn.ReLU(),\n",
    "            nn.Conv2d(4, 16, kernel_size=(3, 3), stride=2),\n",
    "            nn.MaxPool2d(kernel_size=(3, 3), stride=1),\n",
    "            nn.ReLU(), \n",
    "            nn.Flatten(),\n",
    "            nn.Linear(1600, 800), \n",
    "            nn.ReLU(),\n",
    "            nn.Linear(800, 10)\n",
    "        )\n",
    "    \n",
    "    def forward(self, x):\n",
    "        batch_len = x.shape[0]\n",
    "        x = x.view(batch_len, 1, 28, 28)        \n",
    "        return self.forward_pass(x).squeeze()"
   ]
  },
  {
   "cell_type": "code",
   "execution_count": 11,
   "metadata": {},
   "outputs": [],
   "source": [
    "net = ConvNet()"
   ]
  },
  {
   "cell_type": "code",
   "execution_count": 13,
   "metadata": {},
   "outputs": [],
   "source": [
    "def plot_images(*images):\n",
    "    fig, axs = plt.subplots(1, len(images))\n",
    "\n",
    "    if len(images) != 1:\n",
    "        for i in range(len(images)):\n",
    "            axs[i].imshow(images[i])\n",
    "            axs[i].grid(False)\n",
    "            axs[i].axis('off')\n",
    "    else:\n",
    "        axs.imshow(images[0])\n",
    "        axs.grid(False)\n",
    "        axs.axis('off')"
   ]
  },
  {
   "cell_type": "code",
   "execution_count": 14,
   "metadata": {},
   "outputs": [
    {
     "data": {
      "image/png": "[encoded data removed]",
      "text/plain": [
       "<Figure size 640x480 with 3 Axes>"
      ]
     },
     "metadata": {},
     "output_type": "display_data"
    }
   ],
   "source": [
    "xs, ys = train_set[0:3]\n",
    "test_imgs = xs.view(3, 1, 28, 28)\n",
    "plot_images(test_imgs[0].squeeze(), test_imgs[1].squeeze(), test_imgs[2].squeeze())\n",
    "# test_imgs[0].squeeze().shape"
   ]
  },
  {
   "cell_type": "code",
   "execution_count": 15,
   "metadata": {},
   "outputs": [
    {
     "data": {
      "image/png": "[encoded data removed]",
      "text/plain": [
       "<Figure size 640x480 with 1 Axes>"
      ]
     },
     "metadata": {},
     "output_type": "display_data"
    }
   ],
   "source": [
    "plot_images(train_set[0][0])"
   ]
  },
  {
   "cell_type": "code",
   "execution_count": 16,
   "metadata": {},
   "outputs": [
    {
     "data": {
      "text/plain": [
       "tensor([[-0.0385, -0.0082,  0.0186,  0.0215, -0.0284, -0.0345,  0.0219,  0.0035,\n",
       "         -0.0338, -0.0109],\n",
       "        [-0.0385, -0.0082,  0.0186,  0.0215, -0.0284, -0.0345,  0.0219,  0.0035,\n",
       "         -0.0338, -0.0109],\n",
       "        [-0.0385, -0.0082,  0.0186,  0.0215, -0.0284, -0.0345,  0.0219,  0.0035,\n",
       "         -0.0338, -0.0109]], grad_fn=<SqueezeBackward0>)"
      ]
     },
     "execution_count": 16,
     "metadata": {},
     "output_type": "execute_result"
    }
   ],
   "source": [
    "xs, ys = train_set[0:3]\n",
    "net(xs)"
   ]
  },
  {
   "cell_type": "code",
   "execution_count": 17,
   "metadata": {},
   "outputs": [
    {
     "data": {
      "text/plain": [
       "torch.Size([3, 28, 28])"
      ]
     },
     "execution_count": 17,
     "metadata": {},
     "output_type": "execute_result"
    }
   ],
   "source": [
    "xs.shape"
   ]
  },
  {
   "cell_type": "code",
   "execution_count": 18,
   "metadata": {},
   "outputs": [
    {
     "data": {
      "text/plain": [
       "3"
      ]
     },
     "execution_count": 18,
     "metadata": {},
     "output_type": "execute_result"
    }
   ],
   "source": [
    "xs.shape[0]"
   ]
  },
  {
   "cell_type": "code",
   "execution_count": 19,
   "metadata": {},
   "outputs": [
    {
     "data": {
      "text/plain": [
       "tensor(2.3233, grad_fn=<DivBackward1>)"
      ]
     },
     "execution_count": 19,
     "metadata": {},
     "output_type": "execute_result"
    }
   ],
   "source": [
    "loss = nn.CrossEntropyLoss()\n",
    "loss(net(xs).float(), ys.float())"
   ]
  },
  {
   "cell_type": "code",
   "execution_count": 38,
   "metadata": {},
   "outputs": [],
   "source": [
    "def train(dl, network, epochs):\n",
    "    optimizer = torch.optim.Adam(network.parameters(), lr=0.01)\n",
    "    criterion = nn.CrossEntropyLoss()\n",
    "\n",
    "    training_data = {\"epochs\": [], \"losses\": [], \"epoch-loss\": []}\n",
    "    for epoch in range(epochs):\n",
    "        num_batches = len(dl)\n",
    "\n",
    "        curr_epoch_losses = []\n",
    "        for j, (x, y) in enumerate((dl)):\n",
    "            optimizer.zero_grad()\n",
    "            \n",
    "            curr_loss = criterion(network(x).float(), y.float())            \n",
    "            curr_loss.backward()\n",
    "            optimizer.step()\n",
    "            print(f'DEBUGGING: Current gradient: {network.forward_pass.grad}')\n",
    "\n",
    "            training_data[\"epochs\"].append(epoch + (j / num_batches))\n",
    "            training_data[\"losses\"].append(curr_loss.item())\n",
    "            curr_epoch_losses.append(curr_loss.item())\n",
    "\n",
    "        training_data[\"epoch-loss\"].append(np.mean(np.asarray(curr_epoch_losses)).item())\n",
    "\n",
    "        print(f'Epoch #{(epoch + 1)}/{epochs} - Loss: {training_data[\"epoch-loss\"][-1]}')\n",
    "    \n",
    "    return training_data"
   ]
  },
  {
   "cell_type": "code",
   "execution_count": 39,
   "metadata": {},
   "outputs": [
    {
     "ename": "AttributeError",
     "evalue": "'Sequential' object has no attribute 'grad'",
     "output_type": "error",
     "traceback": [
      "\u001b[1;31m---------------------------------------------------------------------------\u001b[0m",
      "\u001b[1;31mAttributeError\u001b[0m                            Traceback (most recent call last)",
      "Cell \u001b[1;32mIn[39], line 1\u001b[0m\n\u001b[1;32m----> 1\u001b[0m training_data \u001b[39m=\u001b[39m train(dl, net, epochs\u001b[39m=\u001b[39;49m\u001b[39m5\u001b[39;49m)\n",
      "Cell \u001b[1;32mIn[38], line 16\u001b[0m, in \u001b[0;36mtrain\u001b[1;34m(dl, network, epochs)\u001b[0m\n\u001b[0;32m     14\u001b[0m curr_loss\u001b[39m.\u001b[39mbackward()\n\u001b[0;32m     15\u001b[0m optimizer\u001b[39m.\u001b[39mstep()\n\u001b[1;32m---> 16\u001b[0m \u001b[39mprint\u001b[39m(\u001b[39mf\u001b[39m\u001b[39m'\u001b[39m\u001b[39mDEBUGGING: Current gradient: \u001b[39m\u001b[39m{\u001b[39;00mnetwork\u001b[39m.\u001b[39;49mforward_pass\u001b[39m.\u001b[39;49mgrad\u001b[39m}\u001b[39;00m\u001b[39m'\u001b[39m)\n\u001b[0;32m     18\u001b[0m training_data[\u001b[39m\"\u001b[39m\u001b[39mepochs\u001b[39m\u001b[39m\"\u001b[39m]\u001b[39m.\u001b[39mappend(epoch \u001b[39m+\u001b[39m (j \u001b[39m/\u001b[39m num_batches))\n\u001b[0;32m     19\u001b[0m training_data[\u001b[39m\"\u001b[39m\u001b[39mlosses\u001b[39m\u001b[39m\"\u001b[39m]\u001b[39m.\u001b[39mappend(curr_loss\u001b[39m.\u001b[39mitem())\n",
      "File \u001b[1;32m~\\AppData\\Local\\Packages\\PythonSoftwareFoundation.Python.3.10_qbz5n2kfra8p0\\LocalCache\\local-packages\\Python310\\site-packages\\torch\\nn\\modules\\module.py:1614\u001b[0m, in \u001b[0;36mModule.__getattr__\u001b[1;34m(self, name)\u001b[0m\n\u001b[0;32m   1612\u001b[0m     \u001b[39mif\u001b[39;00m name \u001b[39min\u001b[39;00m modules:\n\u001b[0;32m   1613\u001b[0m         \u001b[39mreturn\u001b[39;00m modules[name]\n\u001b[1;32m-> 1614\u001b[0m \u001b[39mraise\u001b[39;00m \u001b[39mAttributeError\u001b[39;00m(\u001b[39m\"\u001b[39m\u001b[39m'\u001b[39m\u001b[39m{}\u001b[39;00m\u001b[39m'\u001b[39m\u001b[39m object has no attribute \u001b[39m\u001b[39m'\u001b[39m\u001b[39m{}\u001b[39;00m\u001b[39m'\u001b[39m\u001b[39m\"\u001b[39m\u001b[39m.\u001b[39mformat(\n\u001b[0;32m   1615\u001b[0m     \u001b[39mtype\u001b[39m(\u001b[39mself\u001b[39m)\u001b[39m.\u001b[39m\u001b[39m__name__\u001b[39m, name))\n",
      "\u001b[1;31mAttributeError\u001b[0m: 'Sequential' object has no attribute 'grad'"
     ]
    }
   ],
   "source": [
    "training_data = train(dl, net, epochs=5)"
   ]
  }
 ],
 "metadata": {
  "kernelspec": {
   "display_name": "Python 3",
   "language": "python",
   "name": "python3"
  },
  "language_info": {
   "codemirror_mode": {
    "name": "ipython",
    "version": 3
   },
   "file_extension": ".py",
   "mimetype": "text/x-python",
   "name": "python",
   "nbconvert_exporter": "python",
   "pygments_lexer": "ipython3",
   "version": "3.10.11"
  },
  "orig_nbformat": 4
 },
 "nbformat": 4,
 "nbformat_minor": 2
}
