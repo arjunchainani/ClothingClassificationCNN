{
 "cells": [
  {
   "cell_type": "code",
   "execution_count": 1,
   "metadata": {},
   "outputs": [],
   "source": [
    "import os\n",
    "import numpy as np\n",
    "import pandas as pd\n",
    "import matplotlib.pyplot as plt\n",
    "from skimage.io import imread\n",
    "from sklearn.model_selection import train_test_split\n",
    "from sklearn.metrics import accuracy_score\n",
    "import torch\n",
    "import torch.nn as nn\n",
    "from torch.optim import Adam, SGD\n",
    "from torch.autograd import Variable\n",
    "from torch.utils.data import Dataset, DataLoader, random_split\n",
    "import torch.nn.functional as F\n",
    "from tqdm import tqdm"
   ]
  },
  {
   "cell_type": "code",
   "execution_count": 2,
   "metadata": {},
   "outputs": [],
   "source": [
    "train_ids = pd.read_csv('./fashion-mnist/train/train.csv')\n",
    "test_ids = pd.read_csv('./fashion-mnist/test/test.csv')"
   ]
  },
  {
   "cell_type": "code",
   "execution_count": 3,
   "metadata": {},
   "outputs": [
    {
     "data": {
      "text/html": [
       "<div>\n",
       "<style scoped>\n",
       "    .dataframe tbody tr th:only-of-type {\n",
       "        vertical-align: middle;\n",
       "    }\n",
       "\n",
       "    .dataframe tbody tr th {\n",
       "        vertical-align: top;\n",
       "    }\n",
       "\n",
       "    .dataframe thead th {\n",
       "        text-align: right;\n",
       "    }\n",
       "</style>\n",
       "<table border=\"1\" class=\"dataframe\">\n",
       "  <thead>\n",
       "    <tr style=\"text-align: right;\">\n",
       "      <th></th>\n",
       "      <th>id</th>\n",
       "      <th>label</th>\n",
       "    </tr>\n",
       "  </thead>\n",
       "  <tbody>\n",
       "    <tr>\n",
       "      <th>0</th>\n",
       "      <td>1</td>\n",
       "      <td>9</td>\n",
       "    </tr>\n",
       "    <tr>\n",
       "      <th>1</th>\n",
       "      <td>2</td>\n",
       "      <td>0</td>\n",
       "    </tr>\n",
       "    <tr>\n",
       "      <th>2</th>\n",
       "      <td>3</td>\n",
       "      <td>0</td>\n",
       "    </tr>\n",
       "    <tr>\n",
       "      <th>3</th>\n",
       "      <td>4</td>\n",
       "      <td>3</td>\n",
       "    </tr>\n",
       "    <tr>\n",
       "      <th>4</th>\n",
       "      <td>5</td>\n",
       "      <td>0</td>\n",
       "    </tr>\n",
       "  </tbody>\n",
       "</table>\n",
       "</div>"
      ],
      "text/plain": [
       "   id  label\n",
       "0   1      9\n",
       "1   2      0\n",
       "2   3      0\n",
       "3   4      3\n",
       "4   5      0"
      ]
     },
     "execution_count": 3,
     "metadata": {},
     "output_type": "execute_result"
    }
   ],
   "source": [
    "train_ids.head()"
   ]
  },
  {
   "cell_type": "code",
   "execution_count": 4,
   "metadata": {},
   "outputs": [],
   "source": [
    "class GetData(Dataset):\n",
    "    def __init__(self, type, root_dir='./') -> None:\n",
    "        super(Dataset, self).__init__()\n",
    "        self.type = type\n",
    "\n",
    "        img_dir = os.path.join(root_dir, f'fashion-mnist/{str(type)}/{str(type)}')\n",
    "\n",
    "        if os.path.isdir(img_dir):\n",
    "            images = []\n",
    "\n",
    "            if type == 'train':\n",
    "                for id in train_ids['id']:\n",
    "                    img_path = os.path.join(img_dir, f'{str(id)}.png')\n",
    "                    img = imread(img_path, as_gray=True)\n",
    "                    img = np.multiply(img, (1./255.))\n",
    "                    img = img.astype('float32')\n",
    "                    images.append(img)\n",
    "                \n",
    "                self.x = torch.tensor(images)\n",
    "                self.y = F.one_hot(torch.tensor(train_ids['label'].values))\n",
    "\n",
    "            if type == 'test':\n",
    "                for id in test_ids['id']:\n",
    "                    img_path = os.path.join(img_dir, f'{str(id)}.png')\n",
    "                    img = imread(img_path, as_gray=True)\n",
    "                    img = np.multiply(img, (1./255.))\n",
    "                    img = img.astype('float32')\n",
    "                    images.append(img)\n",
    "                \n",
    "                self.x = torch.tensor(images)\n",
    "\n",
    "\n",
    "        else:\n",
    "            raise OSError('parameter \"type\" must be either train or test')        \n",
    "    \n",
    "    def __getitem__(self, index):\n",
    "        if self.type == 'train':\n",
    "            return self.x[index], self.y[index]\n",
    "        elif self.type == 'test': \n",
    "            return self.x[index]\n",
    "        \n",
    "    def __len__(self):\n",
    "        return self.x.shape[0]"
   ]
  },
  {
   "cell_type": "code",
   "execution_count": 5,
   "metadata": {},
   "outputs": [
    {
     "name": "stderr",
     "output_type": "stream",
     "text": [
      "C:\\Users\\ASC_Student\\AppData\\Local\\Temp\\ipykernel_15348\\1640119489.py:19: UserWarning: Creating a tensor from a list of numpy.ndarrays is extremely slow. Please consider converting the list to a single numpy.ndarray with numpy.array() before converting to a tensor. (Triggered internally at ..\\torch\\csrc\\utils\\tensor_new.cpp:248.)\n",
      "  self.x = torch.tensor(images)\n"
     ]
    }
   ],
   "source": [
    "train_set = GetData('train')"
   ]
  },
  {
   "cell_type": "code",
   "execution_count": 6,
   "metadata": {},
   "outputs": [
    {
     "data": {
      "text/plain": [
       "torch.Size([60000, 28, 28])"
      ]
     },
     "execution_count": 6,
     "metadata": {},
     "output_type": "execute_result"
    }
   ],
   "source": [
    "train_set.x.shape"
   ]
  },
  {
   "cell_type": "code",
   "execution_count": 7,
   "metadata": {},
   "outputs": [
    {
     "data": {
      "text/plain": [
       "torch.Size([60000, 10])"
      ]
     },
     "execution_count": 7,
     "metadata": {},
     "output_type": "execute_result"
    }
   ],
   "source": [
    "train_set.y.shape"
   ]
  },
  {
   "cell_type": "code",
   "execution_count": 8,
   "metadata": {},
   "outputs": [
    {
     "data": {
      "text/plain": [
       "torch.Size([10000, 28, 28])"
      ]
     },
     "execution_count": 8,
     "metadata": {},
     "output_type": "execute_result"
    }
   ],
   "source": [
    "test_set = GetData('test')\n",
    "test_set.x.shape"
   ]
  },
  {
   "cell_type": "code",
   "execution_count": 39,
   "metadata": {},
   "outputs": [
    {
     "name": "stdout",
     "output_type": "stream",
     "text": [
      "Num data batches = 600\n",
      "torch.Size([100, 28, 28])\n",
      "torch.Size([100, 10])\n"
     ]
    }
   ],
   "source": [
    "dl = DataLoader(train_set, batch_size=100)\n",
    "print(f'Num data batches = {len(dl)}')\n",
    "for x, y in dl:\n",
    "    print(x.shape)\n",
    "    print(y.shape)\n",
    "    break"
   ]
  },
  {
   "cell_type": "code",
   "execution_count": 50,
   "metadata": {},
   "outputs": [],
   "source": [
    "class ConvNet(nn.Sequential):\n",
    "    def __init__(self) -> None:\n",
    "        super(nn.Sequential, self).__init__()\n",
    "\n",
    "        self.forward_pass = nn.Sequential(\n",
    "            nn.Conv2d(1, 4, kernel_size=(3, 3), padding='same'), \n",
    "            nn.BatchNorm2d(4), \n",
    "            nn.ReLU(inplace=True),\n",
    "            nn.MaxPool2d(kernel_size=(2, 2), stride=2),\n",
    "            nn.Conv2d(4, 8, kernel_size=(3, 3), stride=2, padding=1),\n",
    "            nn.BatchNorm2d(8),\n",
    "            nn.ReLU(inplace=True), \n",
    "            nn.MaxPool2d(kernel_size=(2, 2), stride=1),\n",
    "            nn.Flatten(),\n",
    "            nn.Linear(288, 144), \n",
    "            nn.ReLU(),\n",
    "            nn.Linear(144, 100), \n",
    "            nn.ReLU(), \n",
    "            nn.Linear(100, 10), \n",
    "            # nn.Sigmoid()\n",
    "        )\n",
    "    \n",
    "    def forward(self, x):\n",
    "        batch_len = x.shape[0]\n",
    "        x = x.view(batch_len, 1, 28, 28)        \n",
    "        return self.forward_pass(x).squeeze()"
   ]
  },
  {
   "cell_type": "code",
   "execution_count": 46,
   "metadata": {},
   "outputs": [],
   "source": [
    "net = ConvNet()"
   ]
  },
  {
   "cell_type": "code",
   "execution_count": 12,
   "metadata": {},
   "outputs": [],
   "source": [
    "def plot_images(*images):\n",
    "    fig, axs = plt.subplots(1, len(images))\n",
    "\n",
    "    if len(images) != 1:\n",
    "        for i in range(len(images)):\n",
    "            axs[i].imshow(images[i])\n",
    "            axs[i].grid(False)\n",
    "            axs[i].axis('off')\n",
    "    else:\n",
    "        axs.imshow(images[0])\n",
    "        axs.grid(False)\n",
    "        axs.axis('off')"
   ]
  },
  {
   "cell_type": "code",
   "execution_count": 13,
   "metadata": {},
   "outputs": [
    {
     "data": {
      "image/png": "[encoded data removed]",
      "text/plain": [
       "<Figure size 640x480 with 3 Axes>"
      ]
     },
     "metadata": {},
     "output_type": "display_data"
    }
   ],
   "source": [
    "xs, ys = train_set[0:3]\n",
    "test_imgs = xs.view(3, 1, 28, 28)\n",
    "plot_images(test_imgs[0].squeeze(), test_imgs[1].squeeze(), test_imgs[2].squeeze())\n",
    "# test_imgs[0].squeeze().shape"
   ]
  },
  {
   "cell_type": "code",
   "execution_count": 14,
   "metadata": {},
   "outputs": [
    {
     "data": {
      "image/png": "[encoded data removed]",
      "text/plain": [
       "<Figure size 640x480 with 1 Axes>"
      ]
     },
     "metadata": {},
     "output_type": "display_data"
    }
   ],
   "source": [
    "plot_images(train_set[0][0])"
   ]
  },
  {
   "cell_type": "code",
   "execution_count": 38,
   "metadata": {},
   "outputs": [
    {
     "data": {
      "text/plain": [
       "tensor([[ 0.5378,  0.4118, -0.2655, -0.0423, -0.0287,  0.1891,  0.1121, -0.0783,\n",
       "         -0.3018,  0.4760],\n",
       "        [ 0.1242,  0.2448, -0.1255,  0.0533,  0.0196,  0.3164, -0.1036,  0.1687,\n",
       "         -0.2496,  0.4083],\n",
       "        [ 0.0687,  0.0294, -0.1384,  0.0679,  0.1507,  0.0101,  0.0835, -0.0373,\n",
       "         -0.2127,  0.2279]], grad_fn=<SqueezeBackward0>)"
      ]
     },
     "execution_count": 38,
     "metadata": {},
     "output_type": "execute_result"
    }
   ],
   "source": [
    "xs, ys = train_set[0:3]\n",
    "net(xs)"
   ]
  },
  {
   "cell_type": "code",
   "execution_count": 19,
   "metadata": {},
   "outputs": [
    {
     "data": {
      "text/plain": [
       "torch.Size([3, 28, 28])"
      ]
     },
     "execution_count": 19,
     "metadata": {},
     "output_type": "execute_result"
    }
   ],
   "source": [
    "xs.shape"
   ]
  },
  {
   "cell_type": "code",
   "execution_count": 20,
   "metadata": {},
   "outputs": [
    {
     "data": {
      "text/plain": [
       "3"
      ]
     },
     "execution_count": 20,
     "metadata": {},
     "output_type": "execute_result"
    }
   ],
   "source": [
    "xs.shape[0]"
   ]
  },
  {
   "cell_type": "code",
   "execution_count": 40,
   "metadata": {},
   "outputs": [
    {
     "data": {
      "text/plain": [
       "tensor(2.1726, grad_fn=<DivBackward1>)"
      ]
     },
     "execution_count": 40,
     "metadata": {},
     "output_type": "execute_result"
    }
   ],
   "source": [
    "loss = nn.CrossEntropyLoss()\n",
    "loss(net(xs).float(), ys.float())"
   ]
  },
  {
   "cell_type": "code",
   "execution_count": 41,
   "metadata": {},
   "outputs": [],
   "source": [
    "def train(dl, network, epochs, learning_rate):\n",
    "    optimizer = torch.optim.Adam(network.parameters(), lr=learning_rate)\n",
    "    criterion = nn.CrossEntropyLoss()\n",
    "\n",
    "    training_data = {\"epochs\": [], \"losses\": [], \"epoch-loss\": []}\n",
    "    for epoch in range(epochs):\n",
    "        num_batches = len(dl)\n",
    "\n",
    "        curr_epoch_losses = []\n",
    "        for j, (x, y) in enumerate(tqdm(dl)):\n",
    "            optimizer.zero_grad()\n",
    "            \n",
    "            curr_loss = criterion(network(x).float(), y.float())            \n",
    "            curr_loss.backward()\n",
    "            optimizer.step()\n",
    "\n",
    "            training_data[\"epochs\"].append(epoch + (j / num_batches))\n",
    "            training_data[\"losses\"].append(curr_loss.item())\n",
    "            curr_epoch_losses.append(curr_loss.item())\n",
    "\n",
    "        training_data[\"epoch-loss\"].append(np.mean(np.asarray(curr_epoch_losses)).item())\n",
    "\n",
    "        print(f'Epoch #{(epoch + 1)}/{epochs} - Loss: {training_data[\"epoch-loss\"][-1]}')\n",
    "    \n",
    "    return training_data"
   ]
  },
  {
   "cell_type": "code",
   "execution_count": 121,
   "metadata": {},
   "outputs": [],
   "source": [
    "def plot_metrics(loss, epochs, num_epochs):\n",
    "    # Averaging out the loss and accuracy to reduce noise in the graph\n",
    "    avg_loss = np.mean(np.asarray(loss).reshape(num_epochs, -1))\n",
    "    avg_epochs = np.mean(np.asarray(epochs).reshape(num_epochs, -1))\n",
    "\n",
    "    plt.plot(avg_epochs, avg_loss)\n",
    "    plt.xlabel('Epoch #')\n",
    "    plt.ylabel('Cross Entropy Loss')\n",
    "    plt.title('Loss per Epoch')\n",
    "    plt.show()"
   ]
  },
  {
   "cell_type": "code",
   "execution_count": 51,
   "metadata": {},
   "outputs": [
    {
     "name": "stderr",
     "output_type": "stream",
     "text": [
      "100%|██████████| 600/600 [00:07<00:00, 83.17it/s]\n"
     ]
    },
    {
     "name": "stdout",
     "output_type": "stream",
     "text": [
      "Epoch #1/50 - Loss: 0.9523747599124909\n"
     ]
    },
    {
     "name": "stderr",
     "output_type": "stream",
     "text": [
      "100%|██████████| 600/600 [00:07<00:00, 79.21it/s]\n"
     ]
    },
    {
     "name": "stdout",
     "output_type": "stream",
     "text": [
      "Epoch #2/50 - Loss: 0.6602584139506023\n"
     ]
    },
    {
     "name": "stderr",
     "output_type": "stream",
     "text": [
      "100%|██████████| 600/600 [00:08<00:00, 73.72it/s]\n"
     ]
    },
    {
     "name": "stdout",
     "output_type": "stream",
     "text": [
      "Epoch #3/50 - Loss: 0.6148460641503334\n"
     ]
    },
    {
     "name": "stderr",
     "output_type": "stream",
     "text": [
      "100%|██████████| 600/600 [00:07<00:00, 75.48it/s]\n"
     ]
    },
    {
     "name": "stdout",
     "output_type": "stream",
     "text": [
      "Epoch #4/50 - Loss: 0.5985746728380521\n"
     ]
    },
    {
     "name": "stderr",
     "output_type": "stream",
     "text": [
      "100%|██████████| 600/600 [00:07<00:00, 75.75it/s]\n"
     ]
    },
    {
     "name": "stdout",
     "output_type": "stream",
     "text": [
      "Epoch #5/50 - Loss: 0.5861156004667282\n"
     ]
    },
    {
     "name": "stderr",
     "output_type": "stream",
     "text": [
      "100%|██████████| 600/600 [00:08<00:00, 73.28it/s]\n"
     ]
    },
    {
     "name": "stdout",
     "output_type": "stream",
     "text": [
      "Epoch #6/50 - Loss: 0.5690484748284022\n"
     ]
    },
    {
     "name": "stderr",
     "output_type": "stream",
     "text": [
      "100%|██████████| 600/600 [00:08<00:00, 73.71it/s]\n"
     ]
    },
    {
     "name": "stdout",
     "output_type": "stream",
     "text": [
      "Epoch #7/50 - Loss: 0.5756469431519509\n"
     ]
    },
    {
     "name": "stderr",
     "output_type": "stream",
     "text": [
      "100%|██████████| 600/600 [00:08<00:00, 75.00it/s]\n"
     ]
    },
    {
     "name": "stdout",
     "output_type": "stream",
     "text": [
      "Epoch #8/50 - Loss: 0.5647467192014058\n"
     ]
    },
    {
     "name": "stderr",
     "output_type": "stream",
     "text": [
      "100%|██████████| 600/600 [00:07<00:00, 75.34it/s]\n"
     ]
    },
    {
     "name": "stdout",
     "output_type": "stream",
     "text": [
      "Epoch #9/50 - Loss: 0.5607422911127409\n"
     ]
    },
    {
     "name": "stderr",
     "output_type": "stream",
     "text": [
      "100%|██████████| 600/600 [00:07<00:00, 76.08it/s]\n"
     ]
    },
    {
     "name": "stdout",
     "output_type": "stream",
     "text": [
      "Epoch #10/50 - Loss: 0.564620581716299\n"
     ]
    },
    {
     "name": "stderr",
     "output_type": "stream",
     "text": [
      "100%|██████████| 600/600 [00:07<00:00, 75.10it/s]\n"
     ]
    },
    {
     "name": "stdout",
     "output_type": "stream",
     "text": [
      "Epoch #11/50 - Loss: 0.5536645795901617\n"
     ]
    },
    {
     "name": "stderr",
     "output_type": "stream",
     "text": [
      "100%|██████████| 600/600 [00:07<00:00, 76.76it/s]\n"
     ]
    },
    {
     "name": "stdout",
     "output_type": "stream",
     "text": [
      "Epoch #12/50 - Loss: 0.5509145365655422\n"
     ]
    },
    {
     "name": "stderr",
     "output_type": "stream",
     "text": [
      "100%|██████████| 600/600 [00:07<00:00, 76.45it/s]\n"
     ]
    },
    {
     "name": "stdout",
     "output_type": "stream",
     "text": [
      "Epoch #13/50 - Loss: 0.560626548777024\n"
     ]
    },
    {
     "name": "stderr",
     "output_type": "stream",
     "text": [
      "100%|██████████| 600/600 [00:07<00:00, 78.00it/s]\n"
     ]
    },
    {
     "name": "stdout",
     "output_type": "stream",
     "text": [
      "Epoch #14/50 - Loss: 0.5452879789968331\n"
     ]
    },
    {
     "name": "stderr",
     "output_type": "stream",
     "text": [
      "100%|██████████| 600/600 [00:07<00:00, 76.37it/s]\n"
     ]
    },
    {
     "name": "stdout",
     "output_type": "stream",
     "text": [
      "Epoch #15/50 - Loss: 0.5659749598801136\n"
     ]
    },
    {
     "name": "stderr",
     "output_type": "stream",
     "text": [
      "100%|██████████| 600/600 [00:07<00:00, 77.20it/s]\n"
     ]
    },
    {
     "name": "stdout",
     "output_type": "stream",
     "text": [
      "Epoch #16/50 - Loss: 0.5520015811423461\n"
     ]
    },
    {
     "name": "stderr",
     "output_type": "stream",
     "text": [
      "100%|██████████| 600/600 [00:08<00:00, 73.55it/s]\n"
     ]
    },
    {
     "name": "stdout",
     "output_type": "stream",
     "text": [
      "Epoch #17/50 - Loss: 0.5478858268260955\n"
     ]
    },
    {
     "name": "stderr",
     "output_type": "stream",
     "text": [
      "100%|██████████| 600/600 [00:07<00:00, 76.94it/s]\n"
     ]
    },
    {
     "name": "stdout",
     "output_type": "stream",
     "text": [
      "Epoch #18/50 - Loss: 0.582371386786302\n"
     ]
    },
    {
     "name": "stderr",
     "output_type": "stream",
     "text": [
      "100%|██████████| 600/600 [00:08<00:00, 74.63it/s]\n"
     ]
    },
    {
     "name": "stdout",
     "output_type": "stream",
     "text": [
      "Epoch #19/50 - Loss: 0.5459074043234189\n"
     ]
    },
    {
     "name": "stderr",
     "output_type": "stream",
     "text": [
      "100%|██████████| 600/600 [00:08<00:00, 74.84it/s]\n"
     ]
    },
    {
     "name": "stdout",
     "output_type": "stream",
     "text": [
      "Epoch #20/50 - Loss: 0.5327651732663313\n"
     ]
    },
    {
     "name": "stderr",
     "output_type": "stream",
     "text": [
      "100%|██████████| 600/600 [00:09<00:00, 61.92it/s]\n"
     ]
    },
    {
     "name": "stdout",
     "output_type": "stream",
     "text": [
      "Epoch #21/50 - Loss: 0.55086275100708\n"
     ]
    },
    {
     "name": "stderr",
     "output_type": "stream",
     "text": [
      "100%|██████████| 600/600 [00:07<00:00, 77.35it/s]\n"
     ]
    },
    {
     "name": "stdout",
     "output_type": "stream",
     "text": [
      "Epoch #22/50 - Loss: 0.5627676853040854\n"
     ]
    },
    {
     "name": "stderr",
     "output_type": "stream",
     "text": [
      "100%|██████████| 600/600 [00:07<00:00, 76.15it/s]\n"
     ]
    },
    {
     "name": "stdout",
     "output_type": "stream",
     "text": [
      "Epoch #23/50 - Loss: 0.5427831868330638\n"
     ]
    },
    {
     "name": "stderr",
     "output_type": "stream",
     "text": [
      "100%|██████████| 600/600 [00:08<00:00, 74.89it/s]\n"
     ]
    },
    {
     "name": "stdout",
     "output_type": "stream",
     "text": [
      "Epoch #24/50 - Loss: 0.5427278402944405\n"
     ]
    },
    {
     "name": "stderr",
     "output_type": "stream",
     "text": [
      "100%|██████████| 600/600 [00:07<00:00, 76.35it/s]\n"
     ]
    },
    {
     "name": "stdout",
     "output_type": "stream",
     "text": [
      "Epoch #25/50 - Loss: 0.5398148732384046\n"
     ]
    },
    {
     "name": "stderr",
     "output_type": "stream",
     "text": [
      "100%|██████████| 600/600 [00:08<00:00, 72.55it/s]\n"
     ]
    },
    {
     "name": "stdout",
     "output_type": "stream",
     "text": [
      "Epoch #26/50 - Loss: 0.5401994713147481\n"
     ]
    },
    {
     "name": "stderr",
     "output_type": "stream",
     "text": [
      "100%|██████████| 600/600 [00:08<00:00, 70.20it/s]\n"
     ]
    },
    {
     "name": "stdout",
     "output_type": "stream",
     "text": [
      "Epoch #27/50 - Loss: 0.5341516010463238\n"
     ]
    },
    {
     "name": "stderr",
     "output_type": "stream",
     "text": [
      "100%|██████████| 600/600 [00:08<00:00, 74.05it/s]\n"
     ]
    },
    {
     "name": "stdout",
     "output_type": "stream",
     "text": [
      "Epoch #28/50 - Loss: 0.5663353932400544\n"
     ]
    },
    {
     "name": "stderr",
     "output_type": "stream",
     "text": [
      "100%|██████████| 600/600 [00:08<00:00, 73.00it/s]\n"
     ]
    },
    {
     "name": "stdout",
     "output_type": "stream",
     "text": [
      "Epoch #29/50 - Loss: 0.5510939103364945\n"
     ]
    },
    {
     "name": "stderr",
     "output_type": "stream",
     "text": [
      "100%|██████████| 600/600 [00:07<00:00, 75.80it/s]\n"
     ]
    },
    {
     "name": "stdout",
     "output_type": "stream",
     "text": [
      "Epoch #30/50 - Loss: 0.5457243821024895\n"
     ]
    },
    {
     "name": "stderr",
     "output_type": "stream",
     "text": [
      "100%|██████████| 600/600 [00:08<00:00, 75.00it/s]\n"
     ]
    },
    {
     "name": "stdout",
     "output_type": "stream",
     "text": [
      "Epoch #31/50 - Loss: 0.533285066485405\n"
     ]
    },
    {
     "name": "stderr",
     "output_type": "stream",
     "text": [
      "100%|██████████| 600/600 [00:08<00:00, 74.62it/s]\n"
     ]
    },
    {
     "name": "stdout",
     "output_type": "stream",
     "text": [
      "Epoch #32/50 - Loss: 0.5360441959400972\n"
     ]
    },
    {
     "name": "stderr",
     "output_type": "stream",
     "text": [
      "100%|██████████| 600/600 [00:07<00:00, 76.69it/s]\n"
     ]
    },
    {
     "name": "stdout",
     "output_type": "stream",
     "text": [
      "Epoch #33/50 - Loss: 0.5275244775911172\n"
     ]
    },
    {
     "name": "stderr",
     "output_type": "stream",
     "text": [
      "100%|██████████| 600/600 [00:07<00:00, 77.45it/s]\n"
     ]
    },
    {
     "name": "stdout",
     "output_type": "stream",
     "text": [
      "Epoch #34/50 - Loss: 0.5341549165050189\n"
     ]
    },
    {
     "name": "stderr",
     "output_type": "stream",
     "text": [
      "100%|██████████| 600/600 [00:07<00:00, 77.53it/s]\n"
     ]
    },
    {
     "name": "stdout",
     "output_type": "stream",
     "text": [
      "Epoch #35/50 - Loss: 0.5437618228793144\n"
     ]
    },
    {
     "name": "stderr",
     "output_type": "stream",
     "text": [
      "100%|██████████| 600/600 [00:07<00:00, 76.89it/s]\n"
     ]
    },
    {
     "name": "stdout",
     "output_type": "stream",
     "text": [
      "Epoch #36/50 - Loss: 0.5313231219351292\n"
     ]
    },
    {
     "name": "stderr",
     "output_type": "stream",
     "text": [
      "100%|██████████| 600/600 [00:08<00:00, 74.28it/s]\n"
     ]
    },
    {
     "name": "stdout",
     "output_type": "stream",
     "text": [
      "Epoch #37/50 - Loss: 0.5272314364711443\n"
     ]
    },
    {
     "name": "stderr",
     "output_type": "stream",
     "text": [
      "100%|██████████| 600/600 [00:08<00:00, 73.15it/s]\n"
     ]
    },
    {
     "name": "stdout",
     "output_type": "stream",
     "text": [
      "Epoch #38/50 - Loss: 0.5336835114657879\n"
     ]
    },
    {
     "name": "stderr",
     "output_type": "stream",
     "text": [
      "100%|██████████| 600/600 [00:07<00:00, 77.70it/s]\n"
     ]
    },
    {
     "name": "stdout",
     "output_type": "stream",
     "text": [
      "Epoch #39/50 - Loss: 0.5558003493150075\n"
     ]
    },
    {
     "name": "stderr",
     "output_type": "stream",
     "text": [
      "100%|██████████| 600/600 [00:07<00:00, 78.19it/s]\n"
     ]
    },
    {
     "name": "stdout",
     "output_type": "stream",
     "text": [
      "Epoch #40/50 - Loss: 0.5249985919892788\n"
     ]
    },
    {
     "name": "stderr",
     "output_type": "stream",
     "text": [
      "100%|██████████| 600/600 [00:07<00:00, 77.79it/s]\n"
     ]
    },
    {
     "name": "stdout",
     "output_type": "stream",
     "text": [
      "Epoch #41/50 - Loss: 0.5366857992112637\n"
     ]
    },
    {
     "name": "stderr",
     "output_type": "stream",
     "text": [
      "100%|██████████| 600/600 [00:10<00:00, 55.96it/s]\n"
     ]
    },
    {
     "name": "stdout",
     "output_type": "stream",
     "text": [
      "Epoch #42/50 - Loss: 0.523147984246413\n"
     ]
    },
    {
     "name": "stderr",
     "output_type": "stream",
     "text": [
      "100%|██████████| 600/600 [00:09<00:00, 63.46it/s]\n"
     ]
    },
    {
     "name": "stdout",
     "output_type": "stream",
     "text": [
      "Epoch #43/50 - Loss: 0.5416564926505089\n"
     ]
    },
    {
     "name": "stderr",
     "output_type": "stream",
     "text": [
      "100%|██████████| 600/600 [00:09<00:00, 60.79it/s]\n"
     ]
    },
    {
     "name": "stdout",
     "output_type": "stream",
     "text": [
      "Epoch #44/50 - Loss: 0.6536958624919256\n"
     ]
    },
    {
     "name": "stderr",
     "output_type": "stream",
     "text": [
      "100%|██████████| 600/600 [00:09<00:00, 63.23it/s]\n"
     ]
    },
    {
     "name": "stdout",
     "output_type": "stream",
     "text": [
      "Epoch #45/50 - Loss: 0.5429310083885988\n"
     ]
    },
    {
     "name": "stderr",
     "output_type": "stream",
     "text": [
      "100%|██████████| 600/600 [00:09<00:00, 61.48it/s]\n"
     ]
    },
    {
     "name": "stdout",
     "output_type": "stream",
     "text": [
      "Epoch #46/50 - Loss: 0.5478859195609888\n"
     ]
    },
    {
     "name": "stderr",
     "output_type": "stream",
     "text": [
      "100%|██████████| 600/600 [00:09<00:00, 64.50it/s]\n"
     ]
    },
    {
     "name": "stdout",
     "output_type": "stream",
     "text": [
      "Epoch #47/50 - Loss: 0.5333493345975876\n"
     ]
    },
    {
     "name": "stderr",
     "output_type": "stream",
     "text": [
      "100%|██████████| 600/600 [00:10<00:00, 57.53it/s]\n"
     ]
    },
    {
     "name": "stdout",
     "output_type": "stream",
     "text": [
      "Epoch #48/50 - Loss: 0.6244701022903124\n"
     ]
    },
    {
     "name": "stderr",
     "output_type": "stream",
     "text": [
      "100%|██████████| 600/600 [00:09<00:00, 61.40it/s]\n"
     ]
    },
    {
     "name": "stdout",
     "output_type": "stream",
     "text": [
      "Epoch #49/50 - Loss: 0.5320311341683069\n"
     ]
    },
    {
     "name": "stderr",
     "output_type": "stream",
     "text": [
      "100%|██████████| 600/600 [00:10<00:00, 59.39it/s]"
     ]
    },
    {
     "name": "stdout",
     "output_type": "stream",
     "text": [
      "Epoch #50/50 - Loss: 0.5237187224626542\n"
     ]
    },
    {
     "name": "stderr",
     "output_type": "stream",
     "text": [
      "\n"
     ]
    }
   ],
   "source": [
    "net2 = ConvNet()\n",
    "\n",
    "training_data = train(dl, net2, epochs=50, learning_rate=0.06)"
   ]
  },
  {
   "cell_type": "code",
   "execution_count": 124,
   "metadata": {},
   "outputs": [],
   "source": [
    "def test(net):\n",
    "    xs = test_set[::]\n",
    "\n",
    "    correct = []\n",
    "    incorrect = []\n",
    "\n",
    "    fig, axs = plt.subplots(10, 4)\n",
    "\n",
    "    img_types = {\n",
    "        \"0\": \"T-shirt\",\n",
    "        \"1\": \"Trouser\",\n",
    "        \"2\": \"Pullover\",\n",
    "        \"3\": \"Dress\",\n",
    "        \"4\": \"Coat\",\n",
    "        \"5\": \"Sandal\",\n",
    "        \"6\": \"Shirt\",\n",
    "        \"7\": \"Sneaker\",\n",
    "        \"8\": \"Bag\",\n",
    "        \"9\": \"Shoe\"\n",
    "    }\n",
    "\n",
    "    for i in range(40):\n",
    "        # print(f'TEST #{i}: Predicted = {torch.argmax(net2(xs[i].unsqueeze(dim=0)))}; Actual = {plot_images(xs[i])}')\n",
    "        axs[int(np.floor((i / 4.0)).item(0))][i % 4].imshow(xs[i])\n",
    "        axs[int(np.floor((i / 4.0)).item(0))][i % 4].axis('off')\n",
    "        axs[int(np.floor((i / 4.0)).item(0))][i % 4].grid(False)\n",
    "        axs[int(np.floor((i / 4.0)).item(0))][i % 4].set_xlabel(img_types[str(torch.argmax(net2(xs[i].unsqueeze(dim=0))).item())], loc=\"center\")\n",
    "\n",
    "        print(f'Prediction for image ({int(np.floor((i / 4.0)).item(0)) + 1}, {(i % 4) + 1}) = {img_types[str(torch.argmax(net2(xs[i].unsqueeze(dim=0))).item())]}')\n",
    "\n",
    "    plt.show()\n",
    "        # axs[int(np.floor((i / 4.0)).item(0))][i % 4].set_xlabel(\"L Bozo\")\n",
    "        # print((int(np.floor((i / 4)).item(0))))\n",
    "\n",
    "    # for i in range(len(test_set)):\n",
    "    #     if torch.argmax(net2(xs[i].unsqueeze(dim=0))) == torch.argmax(ys[i]):\n",
    "    #         correct += 1\n",
    "    #     else:\n",
    "    #         incorrect += 1"
   ]
  },
  {
   "cell_type": "code",
   "execution_count": 125,
   "metadata": {},
   "outputs": [
    {
     "name": "stdout",
     "output_type": "stream",
     "text": [
      "Prediction for image (1, 1) = Shoe\n",
      "Prediction for image (1, 2) = Pullover\n",
      "Prediction for image (1, 3) = Trouser\n",
      "Prediction for image (1, 4) = Trouser\n",
      "Prediction for image (2, 1) = Pullover\n",
      "Prediction for image (2, 2) = Trouser\n",
      "Prediction for image (2, 3) = Pullover\n",
      "Prediction for image (2, 4) = Coat\n",
      "Prediction for image (3, 1) = Sandal\n",
      "Prediction for image (3, 2) = Sneaker\n",
      "Prediction for image (3, 3) = Coat\n",
      "Prediction for image (3, 4) = Sandal\n",
      "Prediction for image (4, 1) = Sandal\n",
      "Prediction for image (4, 2) = T-shirt\n",
      "Prediction for image (4, 3) = Coat\n",
      "Prediction for image (4, 4) = Trouser\n",
      "Prediction for image (5, 1) = Coat\n",
      "Prediction for image (5, 2) = Pullover\n",
      "Prediction for image (5, 3) = Bag\n",
      "Prediction for image (5, 4) = T-shirt\n",
      "Prediction for image (6, 1) = Pullover\n",
      "Prediction for image (6, 2) = Sandal\n",
      "Prediction for image (6, 3) = Sneaker\n",
      "Prediction for image (6, 4) = Sandal\n",
      "Prediction for image (7, 1) = Trouser\n",
      "Prediction for image (7, 2) = Pullover\n",
      "Prediction for image (7, 3) = Coat\n",
      "Prediction for image (7, 4) = Dress\n",
      "Prediction for image (8, 1) = Shoe\n",
      "Prediction for image (8, 2) = Coat\n",
      "Prediction for image (8, 3) = Sneaker\n",
      "Prediction for image (8, 4) = Bag\n",
      "Prediction for image (9, 1) = Dress\n",
      "Prediction for image (9, 2) = Dress\n",
      "Prediction for image (9, 3) = Bag\n",
      "Prediction for image (9, 4) = T-shirt\n",
      "Prediction for image (10, 1) = Sneaker\n",
      "Prediction for image (10, 2) = Sandal\n",
      "Prediction for image (10, 3) = Sneaker\n",
      "Prediction for image (10, 4) = Shoe\n"
     ]
    },
    {
     "data": {
      "image/png": "[encoded data removed]",
      "text/plain": [
       "<Figure size 640x480 with 40 Axes>"
      ]
     },
     "metadata": {},
     "output_type": "display_data"
    }
   ],
   "source": [
    "test(net2)"
   ]
  }
 ],
 "metadata": {
  "kernelspec": {
   "display_name": "Python 3",
   "language": "python",
   "name": "python3"
  },
  "language_info": {
   "codemirror_mode": {
    "name": "ipython",
    "version": 3
   },
   "file_extension": ".py",
   "mimetype": "text/x-python",
   "name": "python",
   "nbconvert_exporter": "python",
   "pygments_lexer": "ipython3",
   "version": "3.10.11"
  },
  "orig_nbformat": 4
 },
 "nbformat": 4,
 "nbformat_minor": 2
}
